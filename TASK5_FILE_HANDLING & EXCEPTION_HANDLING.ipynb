{
 "cells": [
  {
   "cell_type": "markdown",
   "metadata": {},
   "source": [
    "### TASK FIVE: FILE HANDLING AND EXCEPTION HANDLING"
   ]
  },
  {
   "cell_type": "markdown",
   "metadata": {},
   "source": [
    "#### 1.\tWrite a program in Python to allow the error of syntax to go in exception. HINT: use SyntaxError"
   ]
  },
  {
   "cell_type": "code",
   "execution_count": 17,
   "metadata": {},
   "outputs": [
    {
     "name": "stdin",
     "output_type": "stream",
     "text": [
      "Please enter a number:  er\n"
     ]
    },
    {
     "name": "stdout",
     "output_type": "stream",
     "text": [
      "Entered value is Invalid\n"
     ]
    },
    {
     "name": "stdin",
     "output_type": "stream",
     "text": [
      "Please enter a number:  ert\n"
     ]
    },
    {
     "name": "stdout",
     "output_type": "stream",
     "text": [
      "Entered value is Invalid\n"
     ]
    },
    {
     "name": "stdin",
     "output_type": "stream",
     "text": [
      "Please enter a number:  23\n"
     ]
    },
    {
     "name": "stdout",
     "output_type": "stream",
     "text": [
      "Entered number is valid\n"
     ]
    }
   ],
   "source": [
    "while True:\n",
    "    try:\n",
    "        x = int(input(\"Please enter a number: \"))\n",
    "        print(\"Entered number is valid\")\n",
    "        break\n",
    "    except ValueError:\n",
    "         print(\"Entered value is Invalid\")"
   ]
  },
  {
   "cell_type": "markdown",
   "metadata": {},
   "source": [
    "#### 2. Write a program in Python to allow user to open a file by using argv module. If the entered name is incorrect throw an exception and ask them to enter the name again. Make sure to use read only mode. "
   ]
  },
  {
   "cell_type": "code",
   "execution_count": 27,
   "metadata": {},
   "outputs": [
    {
     "name": "stdout",
     "output_type": "stream",
     "text": [
      "PROGRAM:  ['F:\\\\SUKESH\\\\lib\\\\site-packages\\\\ipykernel_launcher.py', '-f', 'C:\\\\Users\\\\chitt\\\\AppData\\\\Roaming\\\\jupyter\\\\runtime\\\\kernel-cbc1b5a3-1239-436f-8a4d-9544c3cce258.json']\n",
      "FILE:  ['F:\\\\SUKESH\\\\lib\\\\site-packages\\\\ipykernel_launcher.py', '-f', 'C:\\\\Users\\\\chitt\\\\AppData\\\\Roaming\\\\jupyter\\\\runtime\\\\kernel-cbc1b5a3-1239-436f-8a4d-9544c3cce258.json']\n",
      "Wrong Name\n"
     ]
    },
    {
     "name": "stdin",
     "output_type": "stream",
     "text": [
      "Try again!!! Y or N:  Y\n",
      "Enter the file name: file\n"
     ]
    },
    {
     "name": "stdout",
     "output_type": "stream",
     "text": [
      "Wrong Name\n"
     ]
    },
    {
     "name": "stdin",
     "output_type": "stream",
     "text": [
      "Try again!!! Y or N:  N\n"
     ]
    }
   ],
   "source": [
    "from sys import argv\n",
    "\n",
    "prog = argv; file = argv\n",
    "print(\"PROGRAM: \", prog)\n",
    "print(\"FILE: \", file)\n",
    "while True:\n",
    "    try:\n",
    "        f_name = open(file, 'r')\n",
    "        given = f_name.read()\n",
    "        print(given)\n",
    "        f_name.close()\n",
    "        break\n",
    "    except:\n",
    "        print(\"Wrong Name\")\n",
    "\n",
    "        try_again = input(\"Try again!!! Y or N: \")\n",
    "        if try_again == \"Y\":\n",
    "            f_name = input(\"Enter the file name:\")\n",
    "        elif try_again == \"N\":\n",
    "            break"
   ]
  },
  {
   "cell_type": "markdown",
   "metadata": {},
   "source": [
    "#### 3. Write a program to handle an error if the user entered the number more than four digits it should return “Please length is too short/long !!! Please provide only four digits” "
   ]
  },
  {
   "cell_type": "code",
   "execution_count": 29,
   "metadata": {},
   "outputs": [
    {
     "name": "stdin",
     "output_type": "stream",
     "text": [
      "Enter a number:  123\n"
     ]
    },
    {
     "name": "stdout",
     "output_type": "stream",
     "text": [
      "Please length is too short/long !!! Please provide only four digits \n"
     ]
    },
    {
     "name": "stdin",
     "output_type": "stream",
     "text": [
      "Enter a number:  12345\n"
     ]
    },
    {
     "name": "stdout",
     "output_type": "stream",
     "text": [
      "Please length is too short/long !!! Please provide only four digits \n"
     ]
    },
    {
     "name": "stdin",
     "output_type": "stream",
     "text": [
      "Enter a number:  1234\n"
     ]
    },
    {
     "name": "stdout",
     "output_type": "stream",
     "text": [
      "1234\n"
     ]
    }
   ],
   "source": [
    "while True:\n",
    "    try:\n",
    "        a = int(input(\"Enter a number: \"))\n",
    "        if len(str(a)) == 4:\n",
    "            print(a)\n",
    "            break\n",
    "        else:\n",
    "            raise Exception\n",
    "    except:\n",
    "        print(\"Please length is too short/long !!! Please provide only four digits \")"
   ]
  },
  {
   "cell_type": "markdown",
   "metadata": {},
   "source": [
    "#### 4. Create a login page backend to ask user to enter the UserEmail and password. Make sure to ask Re-Type Password and if the password is incorrect give chance to enter it again but it should not be more than 3 times."
   ]
  },
  {
   "cell_type": "code",
   "execution_count": 5,
   "metadata": {},
   "outputs": [
    {
     "name": "stdin",
     "output_type": "stream",
     "text": [
      "Enter the username:  12\n",
      "Enter the password:  123\n",
      "Please reenter the password:  12\n"
     ]
    },
    {
     "name": "stdout",
     "output_type": "stream",
     "text": [
      "You have  2  attempts left.\n"
     ]
    },
    {
     "name": "stdin",
     "output_type": "stream",
     "text": [
      "Please reenter the password:  123\n"
     ]
    },
    {
     "name": "stdout",
     "output_type": "stream",
     "text": [
      "Correct Password\n"
     ]
    }
   ],
   "source": [
    "username = input(\"Enter the username: \")\n",
    "password = input(\"Enter the password: \")\n",
    "count = 0\n",
    "while count < 3:\n",
    "    try:\n",
    "        paswrd = input(\"Please reenter the password: \")\n",
    "        if paswrd == password:\n",
    "            print (\"Correct Password\")\n",
    "            break\n",
    "        else:\n",
    "            count += 1\n",
    "            raise Exception\n",
    "            print(\"login attempt over\")\n",
    "            break\n",
    "\n",
    "    \n",
    "    except:\n",
    "        print (\"You have \", 3-count, \" attempts left.\")"
   ]
  },
  {
   "cell_type": "markdown",
   "metadata": {},
   "source": [
    "#### 5. https://www.programiz.com/python-programming/exception-handling Go through this link to understand Finally and Raise concept."
   ]
  },
  {
   "cell_type": "markdown",
   "metadata": {},
   "source": [
    "#### 6. Read any file using Python File handling concept and return only the even length string from the doc.txt file.\n",
    "##### Consider the content as: \n",
    "##### \tHello I am a file \n",
    "##### \tWhere you need to return the data string \n",
    "##### \tWhich is of even length \n",
    "##### \tMake sure you return the content in \n",
    "##### \tThe same link as it is present.\n"
   ]
  },
  {
   "cell_type": "code",
   "execution_count": 5,
   "metadata": {},
   "outputs": [
    {
     "name": "stdout",
     "output_type": "stream",
     "text": [
      "Where you need to return the data string\n",
      "The same link as it is present\n"
     ]
    }
   ],
   "source": [
    "with open('doc_text.txt') as file:\n",
    "    for i in file:\n",
    "        i = i.strip()\n",
    "        if len(i) % 2 == 0:\n",
    "            print(i)\n",
    "        else:\n",
    "            continue"
   ]
  }
 ],
 "metadata": {
  "kernelspec": {
   "display_name": "Python 3",
   "language": "python",
   "name": "python3"
  },
  "language_info": {
   "codemirror_mode": {
    "name": "ipython",
    "version": 3
   },
   "file_extension": ".py",
   "mimetype": "text/x-python",
   "name": "python",
   "nbconvert_exporter": "python",
   "pygments_lexer": "ipython3",
   "version": "3.7.6"
  }
 },
 "nbformat": 4,
 "nbformat_minor": 4
}
