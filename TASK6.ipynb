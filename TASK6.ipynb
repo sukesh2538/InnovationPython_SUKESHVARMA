{
 "cells": [
  {
   "cell_type": "markdown",
   "metadata": {},
   "source": [
    "### TASK SIX: HIGHER ORDER FUNCTIONS, GENERATORS, LIST COMPREHENSION AND DECORATOR"
   ]
  },
  {
   "cell_type": "markdown",
   "metadata": {},
   "source": [
    "#### 1. Write a program to Python find the values which is not divisible 3 but is should be a multiple of 7. Make sure to use only higher order function."
   ]
  },
  {
   "cell_type": "code",
   "execution_count": 22,
   "metadata": {},
   "outputs": [
    {
     "data": {
      "text/plain": [
       "[7, 14, 28]"
      ]
     },
     "execution_count": 22,
     "metadata": {},
     "output_type": "execute_result"
    }
   ],
   "source": [
    "def fun(x):     \n",
    "    return x % 7 == 0 and x % 3 != 0\n",
    "list(filter(fun, range(33)))\n"
   ]
  },
  {
   "cell_type": "markdown",
   "metadata": {},
   "source": [
    "#### 2. Write a program in Python to  multiple the element of list by itself using traditional function and pass the function to map to complete the operation."
   ]
  },
  {
   "cell_type": "code",
   "execution_count": 21,
   "metadata": {},
   "outputs": [
    {
     "data": {
      "text/plain": [
       "[0, 1, 4, 9, 16, 25, 36, 49, 64, 81]"
      ]
     },
     "execution_count": 21,
     "metadata": {},
     "output_type": "execute_result"
    }
   ],
   "source": [
    "def func(x):\n",
    "    return x*x\n",
    "list(map(func, range(10)))"
   ]
  },
  {
   "cell_type": "markdown",
   "metadata": {},
   "source": [
    "#### 3. Write a program to Python find out the character in a string which is uppercase using list comprehension."
   ]
  },
  {
   "cell_type": "code",
   "execution_count": 26,
   "metadata": {},
   "outputs": [
    {
     "name": "stdin",
     "output_type": "stream",
     "text": [
      "Enter the String:  ConSUltaDd PYthoN trainInG\n"
     ]
    },
    {
     "name": "stdout",
     "output_type": "stream",
     "text": [
      "The uppercase characters in string are : ['C', 'S', 'U', 'D', 'P', 'Y', 'N', 'I', 'G']\n"
     ]
    }
   ],
   "source": [
    "strin = input(\"Enter the String: \")\n",
    "find = [char for char in strin if char.isupper()] \n",
    "print(\"The uppercase characters in string are : \" + str(find)) "
   ]
  },
  {
   "cell_type": "markdown",
   "metadata": {},
   "source": [
    "#### 4. Write a program to construct a dictionary from the two lists containing the names of students and their corresponding subjects. The dictionary should maps the students with their respective subjects. Let’s see how to do this using for loops and dictionary comprehension. HINT-Use Zip function also\n",
    "##### ●\tStudent = ['Smit', 'Jaya', 'Rayyan']\t\n",
    "##### ●\tcapital = ['CSE', 'Networking', 'Operating System']"
   ]
  },
  {
   "cell_type": "code",
   "execution_count": 30,
   "metadata": {},
   "outputs": [
    {
     "name": "stdout",
     "output_type": "stream",
     "text": [
      "{'Smit': 'CSE', 'Jaya': 'Networking', 'Rayyan': 'Operating System'}\n"
     ]
    }
   ],
   "source": [
    "student = ['Smit', 'Jaya', 'Rayyan']\n",
    "capital = ['CSE', 'Networking', 'Operating System']\n",
    "dictionary = dict((x,y) for x, y in zip(student, capital))\n",
    "print(dictionary)"
   ]
  },
  {
   "cell_type": "markdown",
   "metadata": {},
   "source": [
    "#### 5. Learn More about Yield, next and Generators"
   ]
  },
  {
   "cell_type": "markdown",
   "metadata": {},
   "source": [
    "#### 6. Write a program in Python using generators to reverse the string. Input String = “Consultadd Training”"
   ]
  },
  {
   "cell_type": "code",
   "execution_count": 34,
   "metadata": {},
   "outputs": [
    {
     "name": "stdin",
     "output_type": "stream",
     "text": [
      "Input String:  Consultadd Training\n"
     ]
    },
    {
     "name": "stdout",
     "output_type": "stream",
     "text": [
      "g\n",
      "n\n",
      "i\n",
      "n\n",
      "i\n",
      "a\n",
      "r\n",
      "T\n",
      " \n",
      "d\n",
      "d\n",
      "a\n",
      "t\n",
      "l\n",
      "u\n",
      "s\n",
      "n\n",
      "o\n",
      "C\n"
     ]
    }
   ],
   "source": [
    "given = input(\"Input String: \")\n",
    "def strin(given):\n",
    "    for i in range(len(given) - 1, -1, -1):\n",
    "        yield given[i]\n",
    "\n",
    "for x in strin(given):\n",
    "    print(x)\n"
   ]
  },
  {
   "cell_type": "markdown",
   "metadata": {},
   "source": [
    "#### 7. Write any example on decorators."
   ]
  },
  {
   "cell_type": "code",
   "execution_count": 8,
   "metadata": {},
   "outputs": [
    {
     "data": {
      "text/plain": [
       "<function __main__.my_decorator.<locals>.funtn()>"
      ]
     },
     "execution_count": 8,
     "metadata": {},
     "output_type": "execute_result"
    }
   ],
   "source": [
    "def my_decorator(func):\n",
    "    def funtn():\n",
    "        print(\"Happening before the function is called.\")\n",
    "        func()\n",
    "        print(\"Happening after the function is called.\")\n",
    "    return funtn\n",
    "\n",
    "def say_hello():\n",
    "    print(\"Hello!\")\n",
    "\n",
    "say_hello = my_decorator(say_hello)\n",
    "say_hello"
   ]
  },
  {
   "cell_type": "markdown",
   "metadata": {},
   "source": [
    "#### 8. Learn about What is FRONT END and its Technologies and Tools\n",
    "##### ●\tMake sure to mention at least 5 top notch technologies of Frontend.\n",
    "##### ●\tAlso mentioned the name of companies using those 5 technologies individually"
   ]
  },
  {
   "cell_type": "markdown",
   "metadata": {},
   "source": [
    "##### JavaScript :- ebay, Microsoft, PayPal, Netflix, Uber\n",
    "##### Angular :- Google, Apple, Microsoft, AWS, Adobe\n",
    "##### HTML/CSS :- Coursera, Cognizant, ADP, DataDog\n",
    "##### React :- Uber, Facebook, Netflix, Udemy, Airbnb\n",
    "##### Bootstrap :- Linkedln, Spotify, Udemy, Lyft, Intel"
   ]
  }
 ],
 "metadata": {
  "kernelspec": {
   "display_name": "Python 3",
   "language": "python",
   "name": "python3"
  },
  "language_info": {
   "codemirror_mode": {
    "name": "ipython",
    "version": 3
   },
   "file_extension": ".py",
   "mimetype": "text/x-python",
   "name": "python",
   "nbconvert_exporter": "python",
   "pygments_lexer": "ipython3",
   "version": "3.7.6"
  }
 },
 "nbformat": 4,
 "nbformat_minor": 4
}
